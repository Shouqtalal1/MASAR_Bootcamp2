{
  "nbformat": 4,
  "nbformat_minor": 0,
  "metadata": {
    "colab": {
      "provenance": [],
      "authorship_tag": "ABX9TyMZ9QduUuJKF9IVIMcpK0va",
      "include_colab_link": true
    },
    "kernelspec": {
      "name": "python3",
      "display_name": "Python 3"
    },
    "language_info": {
      "name": "python"
    }
  },
  "cells": [
    {
      "cell_type": "markdown",
      "metadata": {
        "id": "view-in-github",
        "colab_type": "text"
      },
      "source": [
        "<a href=\"https://colab.research.google.com/github/Shouqtalal1/MASAR_Bootcamp2/blob/main/Untitled10.ipynb\" target=\"_parent\"><img src=\"https://colab.research.google.com/assets/colab-badge.svg\" alt=\"Open In Colab\"/></a>"
      ]
    },
    {
      "cell_type": "code",
      "execution_count": null,
      "metadata": {
        "colab": {
          "base_uri": "https://localhost:8080/"
        },
        "id": "Gm6AXVfhyWGg",
        "outputId": "b1cf4e65-0f08-407b-d10a-a0d370f2f082"
      },
      "outputs": [
        {
          "output_type": "stream",
          "name": "stdout",
          "text": [
            "My name:  Shouq\n",
            "Age:  26\n",
            "Message:  My goal is to gain science and knowledge in the field of data science\n",
            " and move towards a promising future commended.\n"
          ]
        }
      ],
      "source": [
        "#الكود الاول لمنصة مسار\n",
        "name= \"Shouq\"\n",
        "\n",
        "age= \"26\"\n",
        "\n",
        "messge= '''My goal is to gain science and knowledge in the field of data science\n",
        " and move towards a promising future commended.'''\n",
        " #\n",
        "print ('My name: ', name)\n",
        "print ('Age: ', age )\n",
        "print ('Message: ', messge)"
      ]
    }
  ]
}